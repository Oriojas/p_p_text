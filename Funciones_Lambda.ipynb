{
 "cells": [
  {
   "cell_type": "markdown",
   "id": "f2d92e7f",
   "metadata": {
    "id": "f2d92e7f",
    "pycharm": {
     "name": "#%% md\n"
    }
   },
   "source": [
    "# Funciones lambda"
   ]
  },
  {
   "cell_type": "markdown",
   "id": "8924c5c8",
   "metadata": {
    "id": "8924c5c8",
    "pycharm": {
     "name": "#%% md\n"
    }
   },
   "source": [
    "Las funciones lambda o anónimas son un tipo de funciones en Python que típicamente se definen en una línea y cuyo código a ejecutar suele ser pequeño. Resulta complicado explicar las diferencias, y para que te hagas una idea de ello te dejamos con la siguiente cita sacada de <https://docs.python.org/3/faq/design.html#why-can-t-lambda-expressions-contain-statements>.\n",
    "\n",
    "“Python lambdas are only a shorthand notation if you’re too lazy to define a function.”\n",
    "\n",
    "Lo que significa algo así como, “las funciones lambda son simplemente una versión acortada, que puedes usar si te da pereza escribir una función”\n",
    "\n",
    "Tomado de: <https://ellibrodepython.com/lambda-python>"
   ]
  },
  {
   "cell_type": "markdown",
   "id": "ee82a088",
   "metadata": {
    "id": "ee82a088",
    "pycharm": {
     "name": "#%% md\n"
    }
   },
   "source": [
    "## Comparación for vs. lambda"
   ]
  },
  {
   "cell_type": "markdown",
   "id": "55e55f3c",
   "metadata": {
    "id": "55e55f3c",
    "pycharm": {
     "name": "#%% md\n"
    }
   },
   "source": [
    "En este ejemplo se van a multiplicar todos los valores de una listas por el mismo y al final se creara una nueva lista"
   ]
  },
  {
   "cell_type": "markdown",
   "id": "38ede86c",
   "metadata": {
    "id": "38ede86c",
    "pycharm": {
     "name": "#%% md\n"
    }
   },
   "source": [
    "### for"
   ]
  }
 ],
 "metadata": {
  "kernelspec": {
   "display_name": "Python 3 (ipykernel)",
   "language": "python",
   "name": "python3"
  },
  "language_info": {
   "codemirror_mode": {
    "name": "ipython",
    "version": 3
   },
   "file_extension": ".py",
   "mimetype": "text/x-python",
   "name": "python",
   "nbconvert_exporter": "python",
   "pygments_lexer": "ipython3",
   "version": "3.8.13"
  },
  "colab": {
   "name": "Funciones_Lambda.ipynb",
   "provenance": []
  }
 },
 "nbformat": 4,
 "nbformat_minor": 5
}