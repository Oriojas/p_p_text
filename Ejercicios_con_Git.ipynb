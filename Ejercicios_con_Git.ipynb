{
  "nbformat": 4,
  "nbformat_minor": 0,
  "metadata": {
    "colab": {
      "name": "Ejercicios con Git.ipynb",
      "provenance": [],
      "authorship_tag": "ABX9TyMfxp9dINMDtMoxwGJzMfVr",
      "include_colab_link": true
    },
    "kernelspec": {
      "name": "python3",
      "display_name": "Python 3"
    },
    "language_info": {
      "name": "python"
    }
  },
  "cells": [
    {
      "cell_type": "markdown",
      "metadata": {
        "id": "view-in-github",
        "colab_type": "text"
      },
      "source": [
        "<a href=\"https://colab.research.google.com/github/Oriojas/p_p_text/blob/Jhonny_Osorio/Ejercicios_con_Git.ipynb\" target=\"_parent\"><img src=\"https://colab.research.google.com/assets/colab-badge.svg\" alt=\"Open In Colab\"/></a>"
      ]
    },
    {
      "cell_type": "markdown",
      "source": [
        "# **COMANDOS DE GIT IMPORTANTES**\n",
        "\n",
        "https://www.freecodecamp.org/espanol/news/10-comandos-de-git-que-todo-desarrollador-deberia-saber/"
      ],
      "metadata": {
        "id": "IyROtVHbAqxR"
      }
    },
    {
      "cell_type": "code",
      "execution_count": null,
      "metadata": {
        "id": "jMSs7HRxAn0M"
      },
      "outputs": [],
      "source": [
        "!git clone https://github.com/josorio398/ALGEBRA-LINEAL-CON-PYTHON"
      ]
    },
    {
      "cell_type": "code",
      "source": [
        "!git branch hola"
      ],
      "metadata": {
        "colab": {
          "base_uri": "https://localhost:8080/"
        },
        "id": "PPKE0tldBC5m",
        "outputId": "d29ea6ed-eb3c-4211-8633-5385c147755d"
      },
      "execution_count": 3,
      "outputs": [
        {
          "output_type": "stream",
          "name": "stdout",
          "text": [
            "fatal: not a git repository (or any of the parent directories): .git\n"
          ]
        }
      ]
    }
  ]
}
